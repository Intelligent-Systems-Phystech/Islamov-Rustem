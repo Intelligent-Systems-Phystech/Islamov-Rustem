{
 "cells": [
  {
   "cell_type": "code",
   "execution_count": 3,
   "metadata": {
    "colab": {
     "base_uri": "https://localhost:8080/"
    },
    "executionInfo": {
     "elapsed": 7251,
     "status": "ok",
     "timestamp": 1612775072796,
     "user": {
      "displayName": "Рустем Исламов",
      "photoUrl": "",
      "userId": "01972098647381842434"
     },
     "user_tz": -180
    },
    "id": "xE9uOZl2BV4d",
    "outputId": "602504ac-3cbd-46b8-bafe-759f34138bc7"
   },
   "outputs": [
    {
     "name": "stdout",
     "output_type": "stream",
     "text": [
      "Populating the interactive namespace from numpy and matplotlib\n"
     ]
    }
   ],
   "source": [
    "%pylab inline\n",
    "%reload_ext autoreload\n",
    "%autoreload 2\n",
    "import numpy as np\n",
    "import pickle\n",
    "import scipy\n",
    "from methods import BFGS\n",
    "from oracles import create_log_reg_oracle\n",
    "from tqdm import tqdm_notebook"
   ]
  },
  {
   "cell_type": "code",
   "execution_count": 4,
   "metadata": {},
   "outputs": [],
   "source": [
    "np.random.seed(42)"
   ]
  },
  {
   "cell_type": "code",
   "execution_count": 5,
   "metadata": {},
   "outputs": [],
   "source": [
    "dataset_path = './Datasets/a2a.txt'\n",
    "data_name = 'a2a'"
   ]
  },
  {
   "cell_type": "code",
   "execution_count": 6,
   "metadata": {},
   "outputs": [],
   "source": [
    "# regularization parameter\n",
    "lmb = 1e-3"
   ]
  },
  {
   "cell_type": "code",
   "execution_count": 7,
   "metadata": {},
   "outputs": [],
   "source": [
    "# number of nodes, size of local data, and number of weights\n",
    "N = 2265    \n",
    "n = 15         \n",
    "m = 151             \n",
    "d = 123 "
   ]
  },
  {
   "cell_type": "code",
   "execution_count": 8,
   "metadata": {},
   "outputs": [],
   "source": [
    "# data reading\n",
    "b = np.zeros((N,))   \n",
    "A = np.zeros((N, d))\n",
    "\n",
    "f = open(dataset_path, 'r')\n",
    "for i, line in enumerate(f):\n",
    "    if i < N:\n",
    "        line = line.split()\n",
    "        for c in line:\n",
    "            if c == '+1':\n",
    "                b[i] = 1\n",
    "            elif c == '-1':\n",
    "                b[i] = -1\n",
    "            elif c == '\\n':\n",
    "                continue\n",
    "            else:\n",
    "                c = c.split(':')\n",
    "                A[i][int(c[0]) - 1] = float(c[1]) \n",
    "                \n",
    "f.close()"
   ]
  },
  {
   "cell_type": "code",
   "execution_count": 9,
   "metadata": {},
   "outputs": [],
   "source": [
    "# define shift\n",
    "shift = np.ones(d)*0.1"
   ]
  },
  {
   "cell_type": "code",
   "execution_count": 10,
   "metadata": {},
   "outputs": [],
   "source": [
    "# read optimum\n",
    "x_opt = np.loadtxt('a2a_optimum.txt')"
   ]
  },
  {
   "cell_type": "code",
   "execution_count": 11,
   "metadata": {
    "executionInfo": {
     "elapsed": 396,
     "status": "ok",
     "timestamp": 1612775104980,
     "user": {
      "displayName": "Рустем Исламов",
      "photoUrl": "",
      "userId": "01972098647381842434"
     },
     "user_tz": -180
    },
    "id": "HgRaJZuC8htF"
   },
   "outputs": [],
   "source": [
    "x = x_opt + shift"
   ]
  },
  {
   "cell_type": "code",
   "execution_count": 12,
   "metadata": {
    "executionInfo": {
     "elapsed": 551,
     "status": "ok",
     "timestamp": 1612775106787,
     "user": {
      "displayName": "Рустем Исламов",
      "photoUrl": "",
      "userId": "01972098647381842434"
     },
     "user_tz": -180
    },
    "id": "YmIvwIVdH8J-"
   },
   "outputs": [],
   "source": [
    "# function which returns Hessian of f_{ij} at x\n",
    "def Hessian(x, i, j): \n",
    "    l = i*m+j\n",
    "    alpha = b[l]**2*np.exp(-b[l]*A[l].dot(x))/(1+np.exp(-b[l]*A[l].dot(x)))**2\n",
    "    ans = alpha*A[l].reshape((d,1)).dot(A[l].reshape(1,d))\n",
    "    return ans\n",
    "\n",
    "# function which returns Hessian of P at x\n",
    "def full_Hessian(x):\n",
    "    B = np.zeros((d,d))\n",
    "    for i in range(n):\n",
    "        for j in range(m):\n",
    "            B += 1/N*Hessian(x, i, j)\n",
    "    return B"
   ]
  },
  {
   "cell_type": "code",
   "execution_count": 13,
   "metadata": {
    "executionInfo": {
     "elapsed": 786,
     "status": "ok",
     "timestamp": 1612775108459,
     "user": {
      "displayName": "Рустем Исламов",
      "photoUrl": "",
      "userId": "01972098647381842434"
     },
     "user_tz": -180
    },
    "id": "kg1SprphH8QK"
   },
   "outputs": [],
   "source": [
    "# initial approxiamtion of Hessian\n",
    "H_0 = (full_Hessian(x)+lmb*np.eye(d))"
   ]
  },
  {
   "cell_type": "code",
   "execution_count": 14,
   "metadata": {
    "executionInfo": {
     "elapsed": 578,
     "status": "ok",
     "timestamp": 1612775109444,
     "user": {
      "displayName": "Рустем Исламов",
      "photoUrl": "",
      "userId": "01972098647381842434"
     },
     "user_tz": -180
    },
    "id": "nGBjW6q4MlNY"
   },
   "outputs": [],
   "source": [
    "# create logistic regression problem \n",
    "oracle = create_log_reg_oracle(A, b, lmb)"
   ]
  },
  {
   "cell_type": "code",
   "execution_count": null,
   "metadata": {
    "colab": {
     "base_uri": "https://localhost:8080/"
    },
    "executionInfo": {
     "elapsed": 124388,
     "status": "ok",
     "timestamp": 1612775236516,
     "user": {
      "displayName": "Рустем Исламов",
      "photoUrl": "",
      "userId": "01972098647381842434"
     },
     "user_tz": -180
    },
    "id": "rMLt2xuRMc1V",
    "outputId": "1e23fe86-c0d6-4dab-fac8-9b12e1cd92f7",
    "scrolled": true
   },
   "outputs": [],
   "source": [
    "method = BFGS(oracle,x, tolerance=1e-15, stopping_criteria=None,\\\n",
    "                  line_search_options={'method': 'Constant'})\n",
    "method.run(max_iter=100, max_time=10)"
   ]
  },
  {
   "cell_type": "code",
   "execution_count": 16,
   "metadata": {
    "executionInfo": {
     "elapsed": 1098,
     "status": "ok",
     "timestamp": 1612775238512,
     "user": {
      "displayName": "Рустем Исламов",
      "photoUrl": "",
      "userId": "01972098647381842434"
     },
     "user_tz": -180
    },
    "id": "kkd5yAlVMrQI"
   },
   "outputs": [],
   "source": [
    "# save results of BFGS\n",
    "np.savetxt('{}_bfgs_lmb={}.txt'.format(data_name, lmb),method.hist['func'], fmt='%4.16f',delimiter='\\n')"
   ]
  },
  {
   "cell_type": "code",
   "execution_count": null,
   "metadata": {},
   "outputs": [],
   "source": []
  }
 ],
 "metadata": {
  "colab": {
   "collapsed_sections": [],
   "name": "BFGS_example.ipynb",
   "provenance": []
  },
  "kernelspec": {
   "display_name": "Python 3",
   "language": "python",
   "name": "python3"
  },
  "language_info": {
   "codemirror_mode": {
    "name": "ipython",
    "version": 3
   },
   "file_extension": ".py",
   "mimetype": "text/x-python",
   "name": "python",
   "nbconvert_exporter": "python",
   "pygments_lexer": "ipython3",
   "version": "3.8.3"
  }
 },
 "nbformat": 4,
 "nbformat_minor": 1
}
